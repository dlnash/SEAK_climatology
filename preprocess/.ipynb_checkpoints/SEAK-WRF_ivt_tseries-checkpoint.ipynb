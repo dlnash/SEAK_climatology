{
 "cells": [
  {
   "cell_type": "code",
   "execution_count": 7,
   "id": "6b8b9efb-0fa1-4d7e-a30a-6c5adf81dd37",
   "metadata": {},
   "outputs": [],
   "source": [
    "# Standard Python modules\n",
    "import os, sys\n",
    "import numpy as np\n",
    "import pandas as pd\n",
    "import xarray as xr\n",
    "from functools import reduce\n",
    "import glob"
   ]
  },
  {
   "cell_type": "code",
   "execution_count": 2,
   "id": "1c10b252-fe7c-4f60-a6c4-340cf1d7ab0f",
   "metadata": {},
   "outputs": [],
   "source": [
    "# Set up paths\n",
    "\n",
    "path_to_data = '/home/dnash/SEAK_clim_data/'      # project data -- read only\n",
    "path_to_work = '/work/dnash/SEAK_clim_data/'\n",
    "path_to_out  = '../out/'       # output files (numerical results, intermediate datafiles) -- read & write\n",
    "path_to_figs = '../figs/'      # figures"
   ]
  },
  {
   "cell_type": "code",
   "execution_count": 3,
   "id": "3a433fc7-c2ee-4270-8e64-126b201e5b67",
   "metadata": {},
   "outputs": [],
   "source": [
    "### to pull precip time series from data\n",
    "## choose which option\n",
    "# (a) select the grid cell closest to each of the communities\n",
    "# (b) select the 9 closest grid cells to each of the communities - take maximum value\n",
    "# (c) select the 25 closest grid cells to each of the communities- take maximum value\n",
    "option = 'a'\n",
    "\n",
    "### choose which temporal resolution for the precipitation data (hourly or daily)\n",
    "temporal_res = 'hourly'"
   ]
  },
  {
   "cell_type": "code",
   "execution_count": 4,
   "id": "ab3e3633-8749-4a8b-8e7e-8ec6d10b1a1b",
   "metadata": {},
   "outputs": [],
   "source": [
    "### TODO: make a yaml dict\n",
    "ext1 = [-141., -130., 54., 61.] # extent of SEAK\n",
    "\n",
    "lonmin, lonmax, latmin, latmax = ext1\n",
    "xs = [-135.4519, -135.3277, -135.8894, -139.671, -133.1358, -132.4009]\n",
    "ys = [58.1122, 59.4538, 59.3988, 59.5121, 55.4769, 55.5400]\n",
    "lbl1 = ['Hoonah', 'Skagway', 'Klukwan', 'Yakutat', 'Craig', 'Kasaan']\n",
    "lbl_align = ['center', 'left', 'right', 'center', 'right', 'center'] # where the labels go\n",
    "\n",
    "## closest station\n",
    "# -135.4519\t58.1122, Hoonah (PAOH) \n",
    "# -135.3277\t59.4538, Skagway (PAGY)\n",
    "# -135.5117\t59.2429, Haines (PAHN)\n",
    "# -139.671\t59.5121, Yakutat (PAYA)\n",
    "# -133.076\t55.5792, Klawock (PAKW)\n",
    "# -131.7117\t55.3567, Ketchikan (PAKT)\n",
    "xs2 = [-135.4519, -135.3277, -135.5117, -139.671, -133.076, -131.7117]\n",
    "ys2 = [58.1122, 59.4538, 59.2429, 59.5121, 55.5792, 55.3567]\n",
    "lbl2 = ['PAOH', 'PAGY', 'PAHN', 'PAYA', 'PAKW', 'PAKT']"
   ]
  },
  {
   "cell_type": "code",
   "execution_count": 5,
   "id": "6802d823-a19f-4a2e-bca5-e82198bf29fb",
   "metadata": {},
   "outputs": [],
   "source": [
    "def generate_IVT_tseries(era, xs, ys, community_lst, option, year):\n",
    "    \n",
    "    for i, (slon, slat) in enumerate(zip(xs, ys)):\n",
    "        community = community_lst[i]\n",
    "        print('Processing ', community)\n",
    "        \n",
    "        if option == 'a':\n",
    "            ## select nearest grid cell to station\n",
    "            ds = era.sel(lat=slat, lon=slon, method=\"nearest\").load()\n",
    "            df = ds.to_dataframe()\n",
    "            \n",
    "        elif option == 'b':\n",
    "            scale = 1.5 ## \"nearest neighbor\" grid cells\n",
    "            # get the dates for the current year to save in df later\n",
    "            dates = era.time.values\n",
    "            \n",
    "            # get the latitude/longitude resolution\n",
    "            diff_lat = era.lat.values[2] - era.lat.values[1]\n",
    "            diff_lon = era.lon.values[2] - era.lon.values[1]\n",
    "            \n",
    "            # select the nearest neighbor grid cells\n",
    "            ds = era.sel(lat=slice(slat-diff_lat*scale, slat+diff_lat*scale), lon=slice(slon-diff_lon*scale, slon+diff_lon*scale))\n",
    "            \n",
    "            ### localized IVT maxima at each time step\n",
    "            event_max = ds.where(ds.IVT==ds.IVT.max(['lat', 'lon']), drop=True).squeeze().load()\n",
    "            ## pull IVT and IVTDIR where ivt is max\n",
    "            uvec = event_max.uIVT.values\n",
    "            vvec = event_max.vIVT.values\n",
    "            # ## if metpy installed\n",
    "            # uvec = units.Quantity(uvec, \"m/s\")\n",
    "            # vvec = units.Quantity(vvec, \"m/s\")\n",
    "            # ivtdir = mpcalc.wind_direction(uvec, vvec)\n",
    "            # ivtdir_vals = ivtdir.item()\n",
    "\n",
    "            ivt_vals = event_max.IVT.values.tolist()\n",
    "            iwv_vals = event_max.IWV.values.tolist()\n",
    "\n",
    "            ## make a pandas df and put the info in \n",
    "            d ={\"IVT\": ivt_vals,\n",
    "                \"uIVT\": uvec,\n",
    "                \"vIVT\": vvec,\n",
    "                \"IWV\": iwv_vals}\n",
    "            df = pd.DataFrame(data=d)\n",
    "        print('Writing ', community, year, 'to csv')\n",
    "        ## save to csv file\n",
    "        df.to_csv(path_to_out + 'IVT/{0}_IVT_{1}.csv'.format(community, year))\n",
    "        "
   ]
  },
  {
   "cell_type": "markdown",
   "id": "89ee899c-c7f5-43ee-ae65-f76c0bd3c804",
   "metadata": {},
   "source": [
    "### Import ERA5 IVT data"
   ]
  },
  {
   "cell_type": "code",
   "execution_count": 6,
   "id": "27193f0b-e4c3-4736-bd17-888b373f559a",
   "metadata": {},
   "outputs": [
    {
     "name": "stdout",
     "output_type": "stream",
     "text": [
      "Reading  1980\n"
     ]
    },
    {
     "ename": "NameError",
     "evalue": "name 'glob' is not defined",
     "output_type": "error",
     "traceback": [
      "\u001b[0;31m---------------------------------------------------------------------------\u001b[0m",
      "\u001b[0;31mNameError\u001b[0m                                 Traceback (most recent call last)",
      "File \u001b[0;32m<timed exec>:12\u001b[0m\n",
      "\u001b[0;31mNameError\u001b[0m: name 'glob' is not defined"
     ]
    }
   ],
   "source": [
    "%%time\n",
    "## This is a lot of data so trying to process one file at a time\n",
    "def preprocess(ds):\n",
    "    '''keep only selected lats and lons'''\n",
    "    return ds.sel(lat=slice(latmin, latmax), lon=slice(lonmin, lonmax))\n",
    "\n",
    "ds_lst = []\n",
    "for i, yr in enumerate(range(1980, 1981)):\n",
    "    print('Reading ', yr)\n",
    "    \n",
    "    # get list of filenames that contain data from that year from current year folder\n",
    "    filenames = []\n",
    "    for name in glob.glob('/data/downloaded/Reanalysis/ERA5/IVT/{0}/ERA5_IVT_*.nc'.format(yr)):\n",
    "        filenames.append(name)\n",
    "    # sort filenames so they are in chronological order\n",
    "    filenames = sorted(filenames)\n",
    "    \n",
    "    # loop through each file individually\n",
    "    \n",
    "    for j, fname in enumerate(filenames):\n",
    "    \n",
    "        era = xr.open_mfdataset(fname, combine='by_coords', preprocess=preprocess)\n",
    "        if temporal_res == 'hourly':\n",
    "            era = era\n",
    "        elif temporal_res == 'daily':\n",
    "            era = era.resample(time=\"1D\").mean('time')\n",
    "        \n",
    "        df_lst = []\n",
    "        for k, (slon, slat) in enumerate(zip(xs, ys)):\n",
    "            community = lbl1[k]\n",
    "            print('Processing ', community)\n",
    "            \n",
    "            ## select nearest grid cell to station\n",
    "            ds = era.sel(lat=slat, lon=slon, method=\"nearest\").load()\n",
    "            df = ds.to_dataframe()\n",
    "            df_lst.append(df) # append the data for that file to this list\n",
    "        \n",
    "        # df_lst should be a list with 6 lists inside\n",
    "        df_Hoonah.append(df_lst[0])\n",
    "        df_Skagway.append(df_lst[1])\n",
    "        df_Klukwan.append(df_lst[2])\n",
    "        df_Yakutat.append(df_lst[3])\n",
    "        df_Craig.append(df_lst[4])\n",
    "        df_Kasaan.append(df_lst[5])\n",
    "        \n",
    "    \n",
    "    df_final = [df_Hoonah, df_Skagway, df_Klukwan, df_Yakutat, df_Craig, df_Kasaan]\n",
    "    for j, df_community in enumerate(df_final):\n",
    "        df = pd.concat(df_community, ignore_index=True)\n",
    "        community = lbl1[j]\n",
    "        print('Writing ', community, year, 'to csv')\n",
    "        ## save to csv file\n",
    "        df.to_csv(path_to_out + 'IVT/{0}_IVT_{1}.csv'.format(community, year))"
   ]
  },
  {
   "cell_type": "code",
   "execution_count": null,
   "id": "5c5e9ae2-2e5b-4bb6-ac5a-1cc9631f6077",
   "metadata": {},
   "outputs": [
    {
     "name": "stdout",
     "output_type": "stream",
     "text": [
      "Reading  1980\n",
      "Processing  Hoonah\n",
      "Writing  Hoonah 1980 to csv\n",
      "Processing  Skagway\n",
      "Writing  Skagway 1980 to csv\n",
      "Processing  Klukwan\n",
      "Writing  Klukwan 1980 to csv\n",
      "Processing  Yakutat\n",
      "Writing  Yakutat 1980 to csv\n",
      "Processing  Craig\n",
      "Writing  Craig 1980 to csv\n",
      "Processing  Kasaan\n"
     ]
    }
   ],
   "source": [
    "%%time\n",
    "## This is a lot of data so pulling from each year and processing one year at a time\n",
    "def preprocess(ds):\n",
    "    '''keep only selected lats and lons'''\n",
    "    return ds.sel(lat=slice(latmin, latmax), lon=slice(lonmin, lonmax))\n",
    "\n",
    "ds_lst = []\n",
    "for i, yr in enumerate(range(1980, 1981)):\n",
    "    print('Reading ', yr)\n",
    "    filenames = '/data/downloaded/Reanalysis/ERA5/IVT/{0}/ERA5_IVT_*.nc'.format(yr) \n",
    "    era = xr.open_mfdataset(filenames, combine='by_coords', preprocess=preprocess)\n",
    "    if temporal_res == 'hourly':\n",
    "        era = era\n",
    "    elif temporal_res == 'daily':\n",
    "        era = era.resample(time=\"1D\").mean('time')\n",
    "    \n",
    "    # calculate time series for each community based on grid option\n",
    "    generate_IVT_tseries(era, xs, ys, lbl1, option, yr)\n"
   ]
  },
  {
   "cell_type": "code",
   "execution_count": null,
   "id": "808cce1f-9ffe-4dd5-b03d-accdd5c46518",
   "metadata": {},
   "outputs": [],
   "source": []
  }
 ],
 "metadata": {
  "kernelspec": {
   "display_name": "Python (SEAK-clim)",
   "language": "python",
   "name": "seak-clim"
  },
  "language_info": {
   "codemirror_mode": {
    "name": "ipython",
    "version": 3
   },
   "file_extension": ".py",
   "mimetype": "text/x-python",
   "name": "python",
   "nbconvert_exporter": "python",
   "pygments_lexer": "ipython3",
   "version": "3.10.6"
  }
 },
 "nbformat": 4,
 "nbformat_minor": 5
}

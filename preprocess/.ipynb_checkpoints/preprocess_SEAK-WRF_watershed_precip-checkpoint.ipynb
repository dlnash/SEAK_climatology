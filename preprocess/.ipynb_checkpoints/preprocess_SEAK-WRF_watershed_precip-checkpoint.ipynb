{
 "cells": [
  {
   "cell_type": "markdown",
   "id": "714daa33-ac90-4262-a604-528c5e122d97",
   "metadata": {},
   "source": [
    "### Set up notebook - imports and paths"
   ]
  },
  {
   "cell_type": "code",
   "execution_count": null,
   "id": "e9b8dc9b-7c66-4cc2-aae7-aef6457d5acf",
   "metadata": {},
   "outputs": [],
   "source": [
    "# Standard Python modules\n",
    "import os, sys\n",
    "import numpy as np\n",
    "import pandas as pd\n",
    "import xarray as xr\n",
    "import rasterio\n",
    "\n",
    "# extras\n",
    "import geopandas as gpd"
   ]
  },
  {
   "cell_type": "code",
   "execution_count": null,
   "id": "a95255f8-3794-49ae-8b5c-b72b74dea9c0",
   "metadata": {},
   "outputs": [],
   "source": [
    "# Set up paths\n",
    "\n",
    "path_to_data = '/cw3e/mead/projects/cwp140/scratch/dnash/data/preprocessed/'\n",
    "path_to_out  = '../out/'       # output files (numerical results, intermediate datafiles) -- read & write\n",
    "path_to_figs = '../figs/'      # figures"
   ]
  },
  {
   "cell_type": "markdown",
   "id": "e1ca9355-2810-48cf-9747-368ba812dd92",
   "metadata": {},
   "source": [
    "## Import Data"
   ]
  },
  {
   "cell_type": "code",
   "execution_count": null,
   "id": "acb6204c-bc0a-4f83-9da9-a958b1512d9a",
   "metadata": {},
   "outputs": [],
   "source": [
    "## start with importing the precipitation data\n",
    "# this takes all the files that match this pattern\n",
    "fname_pattern = path_to_data + 'SEAK-WRF-precip/WRFDS_PCPT_*.nc'\n",
    "\n",
    "# this opens all the files and puts them into a single dataset object\n",
    "wrf = xr.open_mfdataset(fname_pattern, combine='by_coords')\n",
    "wrf"
   ]
  },
  {
   "cell_type": "code",
   "execution_count": null,
   "id": "069f8a66-b055-4a5a-9e31-499e5c75b4a6",
   "metadata": {},
   "outputs": [],
   "source": [
    "## use geopandas to import the watershed shapefile\n",
    "fp = path_to_data + 'USFS_SEAK_WS/USFS_Southeast_Alaska_Drainage_Basin_(SEAKDB)_Watersheds.shp'\n",
    "polys = gpd.read_file(fp)\n",
    "\n",
    "## figure out the list of different watersheds"
   ]
  },
  {
   "cell_type": "markdown",
   "id": "7f0d06e2-7ea7-4420-824a-66c407b8d6d5",
   "metadata": {},
   "source": [
    "## Play with plotting shapefile"
   ]
  },
  {
   "cell_type": "code",
   "execution_count": null,
   "id": "1cb6db2e-4566-4feb-bcc5-d1ec8e0ec0d8",
   "metadata": {},
   "outputs": [],
   "source": [
    "## select single watershed\n",
    "idx = polys['NAME']=='Santa Barbara' # we want the watershed with this NAME\n",
    "southern = polys.loc[idx] # now select only that watershed from all the watersheds"
   ]
  },
  {
   "cell_type": "code",
   "execution_count": null,
   "id": "daa17ac1-269f-458f-b787-b8cd5114b6d4",
   "metadata": {},
   "outputs": [],
   "source": [
    "## plot single watershed highlighted\n",
    "fig, ax = plt.subplots() # initiates a figure\n",
    "polys.plot(ax=ax, facecolor='gray'); # plots all watersheds in grey\n",
    "southern.plot(ax=ax, facecolor='red'); # plots isolated watershed in red\n",
    "plt.tight_layout(); # cuts white space from fig"
   ]
  },
  {
   "cell_type": "markdown",
   "id": "e63ae3e5-5108-408f-83a9-40f686783a9a",
   "metadata": {},
   "source": [
    "## Play with plotting WRF data"
   ]
  },
  {
   "cell_type": "code",
   "execution_count": null,
   "id": "490d785a-7f9e-4394-910b-e59470da8de1",
   "metadata": {},
   "outputs": [],
   "source": [
    "test = wrf.sel(time='2020-12-01 06:00') # select a single time step from WRF data\n",
    "test"
   ]
  },
  {
   "cell_type": "code",
   "execution_count": null,
   "id": "689648ce-eced-4904-a097-83e129384d61",
   "metadata": {},
   "outputs": [],
   "source": [
    "ax = plt.axes(projection=ccrs.PlateCarree()) # set up a plot axes with a map projection\n",
    "test.prec.plot.contourf(ax=ax, transform=ccrs.PlateCarree()) # creating a contour plot\n",
    "ax.coastlines() # add in coastlines so we know where we are"
   ]
  },
  {
   "cell_type": "code",
   "execution_count": null,
   "id": "9fa95688-0c3e-429e-989a-014db2529130",
   "metadata": {},
   "outputs": [],
   "source": [
    "## now plot the single watershed on top of the WRF data\n",
    "\n",
    "ax = plt.axes(projection=ccrs.PlateCarree()) # set up a plot axes with a map projection\n",
    "test.prec.plot.contourf(ax=ax, transform=ccrs.PlateCarree()) # creating a contour plot\n",
    "ax.coastlines() # add in coastlines so we know where we are\n",
    "\n",
    "southern.boundary.plot(ax=ax); # plots only boundary of isolated watershed"
   ]
  },
  {
   "cell_type": "markdown",
   "id": "c1f319fe-12c1-4e9d-8d5f-bddf7994d300",
   "metadata": {},
   "source": [
    "## Crop WRF data to the shape of the watershed"
   ]
  },
  {
   "cell_type": "code",
   "execution_count": null,
   "id": "d98efcd1-661b-46e5-b6bf-4ee7d9e5cc83",
   "metadata": {},
   "outputs": [],
   "source": [
    "# Select shapefile feature you want to analyse\n",
    "# and reproject to same CRS as xarray\n",
    "gsf = polys\n",
    "gdf = gdf.iloc[[0]].to_crs(ds.crs)\n",
    "\n",
    "# create polygon mask\n",
    "mask = rasterio.features.geometry_mask(\n",
    "            gdf.geometry,\n",
    "            out_shape=ds.geobox.shape,\n",
    "            transform=ds.geobox.affine,\n",
    "            all_touched=False,\n",
    "            invert=False)\n",
    "\n",
    "mask = xr.DataArray(mask, dims=(\"y\", \"x\"))\n",
    "\n",
    "# mask ds with rasterized gdf\n",
    "ds = ds.where(~mask)"
   ]
  },
  {
   "cell_type": "code",
   "execution_count": null,
   "id": "4ac3685b-c258-43ae-89e1-55f7972dd03f",
   "metadata": {},
   "outputs": [],
   "source": [
    "## plot masked WRF data"
   ]
  },
  {
   "cell_type": "code",
   "execution_count": null,
   "id": "1cdbc32e-21b0-4147-aeab-ce7bd8e50a39",
   "metadata": {},
   "outputs": [],
   "source": [
    "## take the sum of the precipitation of the masked WRF data"
   ]
  },
  {
   "cell_type": "markdown",
   "id": "b34905d9-8b9a-451c-a166-0909c135b5e3",
   "metadata": {},
   "source": [
    "## Make a function and iterate!"
   ]
  },
  {
   "cell_type": "code",
   "execution_count": null,
   "id": "ff4efe01-e9f9-41e9-a92f-ddd89de21d6a",
   "metadata": {},
   "outputs": [],
   "source": [
    "## write a function to loop through the above sequence for each watershed and each timestep"
   ]
  }
 ],
 "metadata": {
  "kernelspec": {
   "display_name": "Python (SEAK-clim)",
   "language": "python",
   "name": "seak-clim"
  },
  "language_info": {
   "codemirror_mode": {
    "name": "ipython",
    "version": 3
   },
   "file_extension": ".py",
   "mimetype": "text/x-python",
   "name": "python",
   "nbconvert_exporter": "python",
   "pygments_lexer": "ipython3",
   "version": "3.10.6"
  }
 },
 "nbformat": 4,
 "nbformat_minor": 5
}

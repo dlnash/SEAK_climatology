{
 "cells": [
  {
   "cell_type": "code",
   "execution_count": null,
   "id": "a3735dc0-df63-41a4-b082-9c42eabb8a67",
   "metadata": {},
   "outputs": [],
   "source": [
    "def roundPartial(value, resolution):\n",
    "    return round(value / resolution) * resolution"
   ]
  },
  {
   "cell_type": "code",
   "execution_count": null,
   "id": "d79f5b84-5489-4d38-a0f4-4f487848fa35",
   "metadata": {},
   "outputs": [],
   "source": []
  }
 ],
 "metadata": {
  "kernelspec": {
   "display_name": "Python [conda env:SEAK-clim]",
   "language": "python",
   "name": "conda-env-SEAK-clim-py"
  },
  "language_info": {
   "name": ""
  }
 },
 "nbformat": 4,
 "nbformat_minor": 5
}

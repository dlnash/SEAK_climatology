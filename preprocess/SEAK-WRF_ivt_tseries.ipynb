{
 "cells": [
  {
   "cell_type": "code",
   "execution_count": null,
   "id": "6b8b9efb-0fa1-4d7e-a30a-6c5adf81dd37",
   "metadata": {},
   "outputs": [],
   "source": [
    "# Standard Python modules\n",
    "import os, sys\n",
    "import numpy as np\n",
    "import pandas as pd\n",
    "import xarray as xr\n",
    "from functools import reduce"
   ]
  },
  {
   "cell_type": "code",
   "execution_count": null,
   "id": "1c10b252-fe7c-4f60-a6c4-340cf1d7ab0f",
   "metadata": {},
   "outputs": [],
   "source": [
    "# Set up paths\n",
    "\n",
    "path_to_data = '/cw3e/mead/projects/cwp140/scratch/dnash/data/'      # project data -- read only\n",
    "path_to_work = '/cw3e/mead/projects/cwp140/scratch/dnash/data/preprocessed/SEAK-WRF-precip/'\n",
    "path_to_out  = '../out/'       # output files (numerical results, intermediate datafiles) -- read & write\n",
    "path_to_figs = '../figs/'      # figures"
   ]
  },
  {
   "cell_type": "code",
   "execution_count": null,
   "id": "3a433fc7-c2ee-4270-8e64-126b201e5b67",
   "metadata": {},
   "outputs": [],
   "source": [
    "### to pull precip time series from data\n",
    "## choose which option\n",
    "# (a) select the grid cell closest to each of the communities\n",
    "# (b) select the 9 closest grid cells to each of the communities - take maximum value\n",
    "# (c) select the 25 closest grid cells to each of the communities- take maximum value\n",
    "option = 'a'\n",
    "\n",
    "### choose which temporal resolution for the precipitation data (hourly or daily)\n",
    "temporal_res = 'hourly'"
   ]
  },
  {
   "cell_type": "code",
   "execution_count": null,
   "id": "ab3e3633-8749-4a8b-8e7e-8ec6d10b1a1b",
   "metadata": {},
   "outputs": [],
   "source": [
    "### TODO: make a yaml dict\n",
    "ext1 = [-141., -130., 54., 61.] # extent of SEAK \n",
    "\n",
    "## six communities\n",
    "# -135.4519\t58.1122, Hoonah (PAOH) \n",
    "# -135.3277\t59.4538, Skagway (PAGY)\n",
    "# -135.8894, 59.3988, Klukwan\n",
    "# -139.671\t59.5121, Yakutat (PAYA)\n",
    "# -133.1358, 55.4769, Craig\n",
    "# -132.4009, 55.5400, Kasaan\n",
    "\n",
    "xs = [-135.4519, -135.3277, -135.8894, -139.671, -133.1358, -132.4009]\n",
    "ys = [58.1122, 59.4538, 59.3988, 59.5121, 55.4769, 55.5400]\n",
    "lbl1 = ['Hoonah', 'Skagway', 'Klukwan', 'Yakutat', 'Craig', 'Kasaan']\n",
    "lbl_align = ['center', 'left', 'right', 'center', 'right', 'center'] # where the labels go\n",
    "\n",
    "## closest station\n",
    "# -135.4519\t58.1122, Hoonah (PAOH) \n",
    "# -135.3277\t59.4538, Skagway (PAGY)\n",
    "# -135.5117\t59.2429, Haines (PAHN)\n",
    "# -139.671\t59.5121, Yakutat (PAYA)\n",
    "# -133.076\t55.5792, Klawock (PAKW)\n",
    "# -131.7117\t55.3567, Ketchikan (PAKT)\n",
    "xs2 = [-135.4519, -135.3277, -135.5117, -139.671, -133.076, -131.7117]\n",
    "ys2 = [58.1122, 59.4538, 59.2429, 59.5121, 55.5792, 55.3567]\n",
    "lbl2 = ['PAOH', 'PAGY', 'PAHN', 'PAYA', 'PAKW', 'PAKT']"
   ]
  },
  {
   "cell_type": "markdown",
   "id": "89ee899c-c7f5-43ee-ae65-f76c0bd3c804",
   "metadata": {},
   "source": [
    "### Import ERA5 IVT data"
   ]
  },
  {
   "cell_type": "code",
   "execution_count": null,
   "id": "5c5e9ae2-2e5b-4bb6-ac5a-1cc9631f6077",
   "metadata": {},
   "outputs": [],
   "source": [
    "## TODO pull all files from multiple directories\n",
    "fname_pattern = path_to_data + 'downloaded/Reanalysis/ERA5/IVT/{1}/ERA5_IVT_*.nc'\n",
    "era = xr.open_mfdataset(filenames, combine='by_coords')\n",
    "\n",
    "if temporal_res == 'hourly':\n",
    "    wrf = wrf\n",
    "elif temporal_res == 'daily':\n",
    "    wrf = wrf.resample(time=\"1D\").sum('time')"
   ]
  },
  {
   "cell_type": "markdown",
   "id": "0f9dd5b5-0e4a-4d78-b0dd-72c5ee93a1cf",
   "metadata": {},
   "source": [
    "## Generate precipitation time series for each community"
   ]
  },
  {
   "cell_type": "code",
   "execution_count": null,
   "id": "6802d823-a19f-4a2e-bca5-e82198bf29fb",
   "metadata": {},
   "outputs": [],
   "source": [
    "%%time\n",
    "\n",
    "diff_lat = wrf.lat.values[2] - wrf.lat.values[1]\n",
    "diff_lon = wrf.lon.values[2] - wrf.lon.values[1]\n",
    "df_lst2 = []\n",
    "row_lbl2 = []\n",
    "for i, (slon, slat) in enumerate(zip(xs, ys)):\n",
    "    \n",
    "    if option == 'a':\n",
    "        ## select nearest grid cell to station\n",
    "        ds = wrf.sel(lat=slat, lon=slon, method=\"nearest\")\n",
    "    elif option == 'b':\n",
    "        scale = 1.5 ## \"nearest neighbor\" grid cells\n",
    "        ds = wrf.sel(lat=slice(slat-diff_lat*scale, slat+diff_lat*scale), lon=slice(slon-diff_lon*scale, slon+diff_lon*scale))\n",
    "        ds = ds.max(['lat', 'lon'])\n",
    "    elif option == 'c': \n",
    "        scale = 2.5 ## \"nearest neighbor\" grid cells plus buffer\n",
    "        ds = wrf.sel(lat=slice(slat-diff_lat*scale, slat+diff_lat*scale), lon=slice(slon-diff_lon*scale, slon+diff_lon*scale))\n",
    "        ds = ds.max(['lat', 'lon'])\n",
    "    \n",
    "    df = ds.prec.to_dataframe()\n",
    "    df = df.rename(columns={\"prec\": lbl1[i]}) # rename precip column to the name of the community\n",
    "    df_lst2.append(df)\n",
    "    \n",
    "    # make nice labels for plot\n",
    "    lbl = u\"{:.2f}\\N{DEGREE SIGN}N, {:.2f}\\N{DEGREE SIGN}W\".format(slat, slon*-1)\n",
    "    row_lbl2.append(lbl)"
   ]
  },
  {
   "cell_type": "code",
   "execution_count": null,
   "id": "79c64455-2dd8-4b6b-83a6-15145e3e0b26",
   "metadata": {},
   "outputs": [],
   "source": [
    "# df_new = []\n",
    "# for i, df in enumerate(df_lst2):\n",
    "#     df = df.drop(['lat', 'lon'], axis=1)\n",
    "#     df_new.append(df)"
   ]
  },
  {
   "cell_type": "code",
   "execution_count": null,
   "id": "1e8ba417-bf69-49ac-864d-5b675498c9dc",
   "metadata": {},
   "outputs": [],
   "source": [
    "## merge all dfs to one\n",
    "df_merged = reduce(lambda x, y: pd.merge(x, y, on = 'time'), df_lst2)\n",
    "## hack for weird behavior for daily df option a\n",
    "if (temporal_res == 'daily') & (option == 'a'):\n",
    "    df_merged = df_merged.drop(['lat_x', 'lat_y', 'lon_x', 'lon_y'], axis=1)\n",
    "    \n",
    "df_merged"
   ]
  },
  {
   "cell_type": "code",
   "execution_count": null,
   "id": "08b9d7c5-dddd-4526-b076-72c4ab5570ec",
   "metadata": {},
   "outputs": [],
   "source": [
    "## save to csv file\n",
    "df_merged.to_csv(path_to_out + 'SEAK_precip_max_{0}_{1}.csv'.format(option, temporal_res))"
   ]
  },
  {
   "cell_type": "code",
   "execution_count": null,
   "id": "808cce1f-9ffe-4dd5-b03d-accdd5c46518",
   "metadata": {},
   "outputs": [],
   "source": []
  }
 ],
 "metadata": {
  "kernelspec": {
   "display_name": "Python (SEAK-clim)",
   "language": "python",
   "name": "seak-clim"
  },
  "language_info": {
   "codemirror_mode": {
    "name": "ipython",
    "version": 3
   },
   "file_extension": ".py",
   "mimetype": "text/x-python",
   "name": "python",
   "nbconvert_exporter": "python",
   "pygments_lexer": "ipython3",
   "version": "3.10.6"
  }
 },
 "nbformat": 4,
 "nbformat_minor": 5
}

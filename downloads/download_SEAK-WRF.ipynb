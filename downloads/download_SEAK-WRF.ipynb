{
 "cells": [
  {
   "cell_type": "code",
   "execution_count": null,
   "id": "1ba64c17-c32e-4ac5-9573-1ab0545be665",
   "metadata": {},
   "outputs": [],
   "source": [
    "import awscli"
   ]
  },
  {
   "cell_type": "code",
   "execution_count": null,
   "id": "e12bdd33-3fa5-4fa9-8bc8-d6ad503bfa9e",
   "metadata": {},
   "outputs": [],
   "source": [
    "## test download of single file\n",
    "aws s3 ls --no-sign-request s3://wrf-se-ak-ar5/cfsr/4km/hourly/1980/WRFDS_1980-01-01.nc"
   ]
  }
 ],
 "metadata": {
  "kernelspec": {
   "display_name": "Python (SEAK-clim)",
   "language": "python",
   "name": "seak-clim"
  },
  "language_info": {
   "codemirror_mode": {
    "name": "ipython",
    "version": 3
   },
   "file_extension": ".py",
   "mimetype": "text/x-python",
   "name": "python",
   "nbconvert_exporter": "python",
   "pygments_lexer": "ipython3",
   "version": "3.10.6"
  }
 },
 "nbformat": 4,
 "nbformat_minor": 5
}

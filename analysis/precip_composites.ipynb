{
 "cells": [
  {
   "cell_type": "code",
   "execution_count": null,
   "id": "6f2cf06f-9d1b-4812-b23c-1b131a10d6f1",
   "metadata": {},
   "outputs": [],
   "source": [
    "# Standard Python modules\n",
    "import os, sys\n",
    "import numpy as np\n",
    "import pandas as pd\n",
    "import xarray as xr\n",
    "\n",
    "# plot styles/formatting\n",
    "import seaborn as sns\n",
    "import cmocean.cm as cmo\n",
    "import cmocean\n",
    "\n",
    "# matplotlib\n",
    "import matplotlib.pyplot as plt\n",
    "from mpl_toolkits.axes_grid1 import AxesGrid\n",
    "import matplotlib.ticker as mticker\n",
    "import matplotlib.patches as mpatches\n",
    "import matplotlib.colors as mcolors\n",
    "from mpl_toolkits.axes_grid1.inset_locator import mark_inset\n",
    "\n",
    "# cartopy\n",
    "import cartopy.crs as ccrs\n",
    "from cartopy.mpl.geoaxes import GeoAxes\n",
    "import cartopy.feature as cfeature\n",
    "\n",
    "# extras\n",
    "%matplotlib inline\n",
    "\n",
    "pd.options.display.float_format = \"{:,.2f}\".format # makes it so pandas tables display only first two decimals"
   ]
  },
  {
   "cell_type": "code",
   "execution_count": null,
   "id": "0a5bba13-91e8-40c1-9a1e-7f68b4586fb4",
   "metadata": {},
   "outputs": [],
   "source": [
    "# Set up paths\n",
    "\n",
    "path_to_data = '/cw3e/mead/projects/cwp140/scratch/dnash/data/'      # project data -- read only\n",
    "path_to_work = '/cw3e/mead/projects/cwp140/scratch/dnash/data/preprocessed/SEAK-WRF-precip/'\n",
    "path_to_out  = '../out/'       # output files (numerical results, intermediate datafiles) -- read & write\n",
    "path_to_figs = '../figs/'      # figures"
   ]
  },
  {
   "cell_type": "code",
   "execution_count": null,
   "id": "c3a3c2e1-a996-4461-9d74-8178cdcd055e",
   "metadata": {},
   "outputs": [],
   "source": [
    "## load dataframe to get list of dates that are Extreme Precip and AR"
   ]
  }
 ],
 "metadata": {
  "kernelspec": {
   "display_name": "Python (SEAK-clim)",
   "language": "python",
   "name": "seak-clim"
  },
  "language_info": {
   "codemirror_mode": {
    "name": "ipython",
    "version": 3
   },
   "file_extension": ".py",
   "mimetype": "text/x-python",
   "name": "python",
   "nbconvert_exporter": "python",
   "pygments_lexer": "ipython3",
   "version": "3.10.6"
  }
 },
 "nbformat": 4,
 "nbformat_minor": 5
}

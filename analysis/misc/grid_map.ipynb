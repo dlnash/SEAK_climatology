{
 "cells": [
  {
   "cell_type": "code",
   "execution_count": 1,
   "id": "d1839eb6-fbfd-4953-a288-41c207a960fa",
   "metadata": {},
   "outputs": [
    {
     "name": "stderr",
     "output_type": "stream",
     "text": [
      "ERROR 1: PROJ: proj_create_from_database: Open of /home/dnash/miniconda3/envs/SEAK-clim/share/proj failed\n"
     ]
    }
   ],
   "source": [
    "import cartopy.crs as ccrs\n",
    "import cartopy.feature as cfeature\n",
    "\n",
    "import matplotlib.pyplot as plt\n",
    "import matplotlib.ticker as mticker\n",
    "\n",
    "import numpy as np\n",
    "from cartopy.mpl.ticker import (LongitudeFormatter, LatitudeFormatter,\n",
    "                                LatitudeLocator)\n"
   ]
  },
  {
   "cell_type": "code",
   "execution_count": 23,
   "id": "7cb8ada9-e1ba-48f5-974a-b9d9c0b842ef",
   "metadata": {},
   "outputs": [],
   "source": [
    "## six communities\n",
    "# -135.4519\t58.1122, Hoonah (PAOH) \n",
    "# -135.3277\t59.4538, Skagway (PAGY)\n",
    "# -135.8894, 59.3988, Klukwan\n",
    "# -139.671\t59.5121, Yakutat (PAYA)\n",
    "# -133.1358, 55.4769, Craig\n",
    "# -132.4009, 55.5400, Kasaan\n",
    "\n",
    "xs = [-135.4519, -135.3277, -135.8894, -139.671, -133.1358, -132.4009]\n",
    "ys = [58.1122, 59.4538, 59.3988, 59.5121, 55.4769, 55.5400]\n",
    "lbl1 = ['Hoonah', 'Skagway', 'Klukwan', 'Yakutat', 'Craig', 'Kasaan']\n",
    "lbl_align = ['center', 'left', 'right', 'center', 'right', 'left'] # where the labels go\n",
    "\n",
    "## closest station\n",
    "# -135.4519\t58.1122, Hoonah (PAOH) \n",
    "# -135.3277\t59.4538, Skagway (PAGY)\n",
    "# -135.5117\t59.2429, Haines (PAHN)\n",
    "# -139.671\t59.5121, Yakutat (PAYA)\n",
    "# -133.076\t55.5792, Klawock (PAKW)\n",
    "# -131.7117\t55.3567, Ketchikan (PAKT)\n",
    "xs2 = [-135.4519, -135.3277, -135.5117, -139.671, -133.076, -131.7117]\n",
    "ys2 = [58.1122, 59.4538, 59.2429, 59.5121, 55.5792, 55.3567]\n",
    "lbl2 = ['PAOH', 'PAGY', 'PAHN', 'PAYA', 'PAKW', 'PAKT']\n",
    "\n",
    "ext1 = [-140.5, -130., 54., 61.] # extent of SEAK \n",
    "ext1 = [-165., -130., 54., 62.] # extent of South southeast coast\n",
    "ext1 = [-175., -151., 54., 72.] # extent of SEAK "
   ]
  },
  {
   "cell_type": "code",
   "execution_count": 24,
   "id": "115d0941-2268-44cf-ba6a-a2ee3f28d545",
   "metadata": {},
   "outputs": [],
   "source": [
    "# Set up projection\n",
    "datacrs = ccrs.PlateCarree()  ## the projection the data is in\n",
    "mapcrs = ccrs.PlateCarree() ## the projection you want your map displayed in\n",
    "\n",
    "# Set tick/grid locations\n",
    "xticks = np.arange(ext1[2],ext1[3]+0.5,0.5)\n",
    "yticks = np.arange(ext1[0]+0.5,ext1[1]+0.5,0.5)"
   ]
  },
  {
   "cell_type": "code",
   "execution_count": null,
   "id": "fa1db6be-453c-4606-aead-62e785056206",
   "metadata": {},
   "outputs": [],
   "source": [
    "def main():\n",
    "    fig = plt.figure(figsize=(20, 20))\n",
    "    # ax = fig.axes(projection=mapcrs)\n",
    "    ax = fig.add_subplot(111, projection=mapcrs)\n",
    "    ax.set_extent(ext1, crs=datacrs)\n",
    "    \n",
    "    # Add map features (continents and country borders)\n",
    "    ax.add_feature(cfeature.LAND, facecolor='0.9')      \n",
    "    ax.add_feature(cfeature.BORDERS, edgecolor='0.4', linewidth=0.8)\n",
    "    ax.add_feature(cfeature.COASTLINE, edgecolor='0.4', linewidth=0.8)\n",
    "\n",
    "    ## Add ERA-Interim Gridlines and Labels\n",
    "    gl = ax.gridlines(crs=datacrs, draw_labels=True,\n",
    "                      linewidth=1, color='gray', alpha=0.5, linestyle='--')\n",
    "    gl.top_labels = False\n",
    "    gl.left_labels = False\n",
    "    gl.xlines = True\n",
    "    gl.xlocator = mticker.FixedLocator(yticks)\n",
    "    gl.ylocator = mticker.FixedLocator(xticks)\n",
    "    gl.xformatter = LongitudeFormatter()\n",
    "    gl.yformatter = LatitudeFormatter()\n",
    "    gl.xlabel_style = {'size': 9, 'color': 'gray'}\n",
    "    gl.ylabel_style = {'size': 9, 'color': 'gray'}\n",
    "    \n",
    "    \n",
    "#     ## Add ERA5 Gridlines\n",
    "#     gl = ax.gridlines(crs=datacrs, draw_labels=True,\n",
    "#                       linewidth=0.75, color='gray', alpha=0.5, linestyle='--')\n",
    "#     gl.xlines = True\n",
    "#     gl.ylines = True\n",
    "#     gl.xlocator = mticker.FixedLocator(np.arange(ext1[2],ext1[3]+0.25,0.25))\n",
    "#     gl.ylocator = mticker.FixedLocator(np.arange(ext1[0]+0.25,ext1[1]+0.25,0.25))\n",
    "#     gl.top_labels = False\n",
    "#     # gl.bottom_labels = False\n",
    "#     gl.left_labels = False\n",
    "#     # gl.right_labels=True\n",
    "#     gl.xformatter = LongitudeFormatter()\n",
    "#     gl.yformatter = LatitudeFormatter()\n",
    "#     gl.xlabel_style = {'size': 9, 'color': 'gray'}\n",
    "#     gl.ylabel_style = {'size': 9, 'color': 'gray'}\n",
    "    \n",
    "    # need this to fix annotate transform\n",
    "    transform = datacrs._as_mpl_transform(ax)\n",
    "    \n",
    "    ## Plot the locations of the focus communities\n",
    "    # zip joins x and y coordinates in pairs\n",
    "    # for x,y,z,ha in zip(xs,ys, lbl1, lbl_align):\n",
    "\n",
    "        # Plot Location of pts\n",
    "        # ax.plot(x, y, 'ro', markersize=6, transform=datacrs)\n",
    "\n",
    "        # ax.annotate(z, # this is the text\n",
    "        #            (x,y), # these are the coordinates to position the label\n",
    "        #             textcoords=\"offset points\", # how to position the text\n",
    "        #             xytext=(0,12), # distance from text to points (x,y)\n",
    "        #             ha=ha, # horizontal alignment can be left, right or center\n",
    "        #             bbox=dict(boxstyle=\"round,pad=0.3\", fc=\"white\", ec=\"k\", lw=0.5, alpha=0.8),\n",
    "        #             xycoords=transform,\n",
    "        #             zorder=102,\n",
    "        #             fontsize=14)\n",
    "    plt.show()\n",
    "\n",
    "\n",
    "if __name__ == '__main__':\n",
    "    main()"
   ]
  },
  {
   "cell_type": "code",
   "execution_count": null,
   "id": "9bcaf04c-2d33-431d-9a77-a5291adc9608",
   "metadata": {},
   "outputs": [],
   "source": []
  }
 ],
 "metadata": {
  "kernelspec": {
   "display_name": "Python (SEAK-clim)",
   "language": "python",
   "name": "seak-clim"
  },
  "language_info": {
   "codemirror_mode": {
    "name": "ipython",
    "version": 3
   },
   "file_extension": ".py",
   "mimetype": "text/x-python",
   "name": "python",
   "nbconvert_exporter": "python",
   "pygments_lexer": "ipython3",
   "version": "3.10.6"
  }
 },
 "nbformat": 4,
 "nbformat_minor": 5
}

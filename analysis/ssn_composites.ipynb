{
 "cells": [
  {
   "cell_type": "code",
   "execution_count": null,
   "id": "47f44778-e5d7-4f9c-97d0-e98c9e1931b9",
   "metadata": {},
   "outputs": [],
   "source": [
    "ds_ssn_sum = ds.resample(time='QS-DEC', keep_attrs=True).sum()\n",
    "ds_ar_ssn_sum = ds_ar.resample(time='QS-DEC', keep_attrs=True).sum()                                 \n",
    "\n",
    "# calculate average of seasonal totals\n",
    "clim = ds_ssn_sum.groupby('time.season').mean(dim='time').compute()"
   ]
  },
  {
   "cell_type": "code",
   "execution_count": null,
   "id": "f2041f49-0ddd-489f-a41e-3430371dbbeb",
   "metadata": {},
   "outputs": [],
   "source": [
    "# Import Python modules\n",
    "import os, sys\n",
    "import yaml\n",
    "import numpy as np\n",
    "import pandas as  pd\n",
    "import xarray as xr\n",
    "from datetime import timedelta, date\n",
    "import textwrap\n",
    "\n",
    "# matplotlib\n",
    "import matplotlib.pyplot as plt\n",
    "from mpl_toolkits.axes_grid1 import AxesGrid\n",
    "import matplotlib.ticker as mticker\n",
    "\n",
    "# cartopy\n",
    "import cartopy.crs as ccrs\n",
    "from cartopy.mpl.geoaxes import GeoAxes\n",
    "import cartopy.feature as cfeature\n",
    "from cartopy.mpl.ticker import (LongitudeFormatter, LatitudeFormatter,\n",
    "                                LatitudeLocator)\n",
    "\n",
    "# plot styles/formatting\n",
    "import seaborn as sns\n",
    "import cmocean.cm as cmo\n",
    "import cmocean\n",
    "\n",
    "# Path to modules\n",
    "sys.path.append('../modules')\n",
    "\n",
    "# Import my modules\n",
    "from plotter import draw_basemap\n",
    "from ar_funcs import get_ar_days, duration_stats\n",
    "from constants import ucsd_colors"
   ]
  },
  {
   "cell_type": "code",
   "execution_count": null,
   "id": "df396caa-9173-4db9-bfdd-4c39a66b299d",
   "metadata": {},
   "outputs": [],
   "source": [
    "# Set up paths\n",
    "server = \"skyriver\"\n",
    "if server == \"comet\":\n",
    "    path_to_data = '/cw3e/mead/projects/cwp140/scratch/dnash/data/'      # project data -- read only\n",
    "elif server == \"skyriver\":\n",
    "    path_to_data = '/work/dnash/data/'\n",
    "path_to_out  = '../out/'       # output files (numerical results, intermediate datafiles) -- read & write\n",
    "path_to_figs = '../figs/'      # figures"
   ]
  },
  {
   "cell_type": "code",
   "execution_count": null,
   "id": "cd0bbe2b-935d-4d97-8b6d-08cf5c703409",
   "metadata": {},
   "outputs": [],
   "source": []
  }
 ],
 "metadata": {
  "kernelspec": {
   "display_name": "Python (SEAK-clim)",
   "language": "python",
   "name": "seak-clim"
  },
  "language_info": {
   "codemirror_mode": {
    "name": "ipython",
    "version": 3
   },
   "file_extension": ".py",
   "mimetype": "text/x-python",
   "name": "python",
   "nbconvert_exporter": "python",
   "pygments_lexer": "ipython3",
   "version": "3.10.6"
  }
 },
 "nbformat": 4,
 "nbformat_minor": 5
}
